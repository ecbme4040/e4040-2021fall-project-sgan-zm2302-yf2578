{
 "cells": [
  {
   "cell_type": "markdown",
   "id": "9453d1ae",
   "metadata": {},
   "source": [
    "### The jupyter pipeline is very simple as it just runs the scripts, and the main code is written in the scirpt 'main_lstm.py'"
   ]
  },
  {
   "cell_type": "code",
   "execution_count": null,
   "id": "49d3341d",
   "metadata": {},
   "outputs": [],
   "source": [
    "#build data if data is not there\n",
    "! python build_ngsim_data.py"
   ]
  },
  {
   "cell_type": "code",
   "execution_count": null,
   "id": "31b4705e",
   "metadata": {},
   "outputs": [],
   "source": [
    "# train the model\n",
    "! python main_lstm.py --experiment_dir experiments/ngsim/gan --data_dir data/ngsim/ngsim_v_dt=1 --mode train --force_overwrite "
   ]
  },
  {
   "cell_type": "code",
   "execution_count": null,
   "id": "0194ea14",
   "metadata": {},
   "outputs": [],
   "source": [
    "# test the model\n",
    "! python main_lstm.py --experiment_dir experiments/ngsim/gan --data_dir data/ngsim/ngsim_v_dt=1 --mode test"
   ]
  },
  {
   "cell_type": "code",
   "execution_count": null,
   "id": "10656b30",
   "metadata": {},
   "outputs": [],
   "source": [
    "# visualization \n",
    "! python viz.py --experiment_dir experiments/ngsim/gan --sudoku --interval --metrics_statistic --force_overwrite"
   ]
  },
  {
   "cell_type": "markdown",
   "id": "a16ff3f1",
   "metadata": {},
   "source": [
    "### Then open the folder \"experiments/ngsim/gan/viz\" to visualize the results"
   ]
  }
 ],
 "metadata": {
  "kernelspec": {
   "display_name": "tensorflow2_latest_py37",
   "language": "python",
   "name": "tensorflow2_latest_py37"
  },
  "language_info": {
   "codemirror_mode": {
    "name": "ipython",
    "version": 3
   },
   "file_extension": ".py",
   "mimetype": "text/x-python",
   "name": "python",
   "nbconvert_exporter": "python",
   "pygments_lexer": "ipython3",
   "version": "3.7.7"
  }
 },
 "nbformat": 4,
 "nbformat_minor": 5
}
